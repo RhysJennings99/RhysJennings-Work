{
  "nbformat": 4,
  "nbformat_minor": 0,
  "metadata": {
    "colab": {
      "name": "Project-Rhys.ipynb",
      "provenance": [],
      "collapsed_sections": []
    },
    "kernelspec": {
      "name": "python3",
      "display_name": "Python 3"
    }
  },
  "cells": [
    {
      "cell_type": "markdown",
      "metadata": {
        "id": "tquN_wc5QU6_",
        "colab_type": "text"
      },
      "source": [
        "# Rhys Jennings Data301 Project\n"
      ]
    },
    {
      "cell_type": "markdown",
      "metadata": {
        "id": "dXmjsUVdQRbz",
        "colab_type": "text"
      },
      "source": [
        "Setting up spark workspace"
      ]
    },
    {
      "cell_type": "code",
      "metadata": {
        "id": "MNeXVkh3wht9",
        "colab_type": "code",
        "colab": {
          "base_uri": "https://localhost:8080/",
          "height": 319
        },
        "outputId": "8314ab0f-0af6-4939-e756-08a96a5f534e"
      },
      "source": [
        "#library and code setup\n",
        "!apt-get install openjdk-8-jdk-headless -qq > /dev/null\n",
        "!pip install -q pyspark\n",
        "import pyspark, os\n",
        "from pyspark import SparkConf, SparkContext\n",
        "os.environ[\"PYSPARK_PYTHON\"]=\"python3\"\n",
        "os.environ[\"JAVA_HOME\"]=\"/usr/lib/jvm/java-8-openjdk-amd64/\"\n",
        "\n",
        "!pip install gdelt"
      ],
      "execution_count": null,
      "outputs": [
        {
          "output_type": "stream",
          "text": [
            "\u001b[K     |████████████████████████████████| 217.8MB 52kB/s \n",
            "\u001b[K     |████████████████████████████████| 204kB 47.5MB/s \n",
            "\u001b[?25h  Building wheel for pyspark (setup.py) ... \u001b[?25l\u001b[?25hdone\n",
            "Collecting gdelt\n",
            "\u001b[?25l  Downloading https://files.pythonhosted.org/packages/65/f9/a3d5111c8f17334b1752c32aedaab0d01ab4324bf26417bd41890d5b25d0/gdelt-0.1.10.6.1-py2.py3-none-any.whl (773kB)\n",
            "\u001b[K     |████████████████████████████████| 778kB 2.0MB/s \n",
            "\u001b[?25hRequirement already satisfied: numpy in /usr/local/lib/python3.6/dist-packages (from gdelt) (1.18.4)\n",
            "Requirement already satisfied: requests in /usr/local/lib/python3.6/dist-packages (from gdelt) (2.23.0)\n",
            "Requirement already satisfied: python-dateutil in /usr/local/lib/python3.6/dist-packages (from gdelt) (2.8.1)\n",
            "Requirement already satisfied: pandas>=0.20.3 in /usr/local/lib/python3.6/dist-packages (from gdelt) (1.0.3)\n",
            "Requirement already satisfied: chardet<4,>=3.0.2 in /usr/local/lib/python3.6/dist-packages (from requests->gdelt) (3.0.4)\n",
            "Requirement already satisfied: certifi>=2017.4.17 in /usr/local/lib/python3.6/dist-packages (from requests->gdelt) (2020.4.5.1)\n",
            "Requirement already satisfied: idna<3,>=2.5 in /usr/local/lib/python3.6/dist-packages (from requests->gdelt) (2.9)\n",
            "Requirement already satisfied: urllib3!=1.25.0,!=1.25.1,<1.26,>=1.21.1 in /usr/local/lib/python3.6/dist-packages (from requests->gdelt) (1.24.3)\n",
            "Requirement already satisfied: six>=1.5 in /usr/local/lib/python3.6/dist-packages (from python-dateutil->gdelt) (1.12.0)\n",
            "Requirement already satisfied: pytz>=2017.2 in /usr/local/lib/python3.6/dist-packages (from pandas>=0.20.3->gdelt) (2018.9)\n",
            "Installing collected packages: gdelt\n",
            "Successfully installed gdelt-0.1.10.6\n"
          ],
          "name": "stdout"
        }
      ]
    },
    {
      "cell_type": "code",
      "metadata": {
        "id": "Aiotqsl_wnff",
        "colab_type": "code",
        "colab": {}
      },
      "source": [
        "#start spark local server\n",
        "import sys, os\n",
        "from operator import add\n",
        "import time\n",
        "\n",
        "os.environ[\"PYSPARK_PYTHON\"]=\"python3\"\n",
        "\n",
        "import pyspark\n",
        "from pyspark import SparkConf, SparkContext\n",
        "\n",
        "#connects our python driver to a local Spark JVM running on the Google Colab server virtual machine\n",
        "try:\n",
        "  conf = SparkConf().setMaster(\"local[*]\").set(\"spark.executor.memory\", \"1g\")\n",
        "  sc = SparkContext(conf = conf)\n",
        "except ValueError:\n",
        "  #it's ok if the server is already started\n",
        "  pass\n",
        "\n",
        "def dbg(x):\n",
        "  \"\"\" A helper function to print debugging information on RDDs \"\"\"\n",
        "  if isinstance(x, pyspark.RDD):\n",
        "    print([(t[0], list(t[1]) if \n",
        "            isinstance(t[1], pyspark.resultiterable.ResultIterable) else t[1])\n",
        "           if isinstance(t, tuple) else t\n",
        "           for t in x.take(100)])\n",
        "  else:\n",
        "    print(x)"
      ],
      "execution_count": null,
      "outputs": []
    },
    {
      "cell_type": "markdown",
      "metadata": {
        "id": "tXbxfrOPS3vr",
        "colab_type": "text"
      },
      "source": [
        "Getting Data from GDELT from 01 Jan 2020 until 30 Apr 2020"
      ]
    },
    {
      "cell_type": "code",
      "metadata": {
        "id": "eV638E4gxUfl",
        "colab_type": "code",
        "colab": {
          "base_uri": "https://localhost:8080/",
          "height": 319
        },
        "outputId": "f6285840-060b-4c5d-d472-f02e9229abfa"
      },
      "source": [
        "from concurrent.futures import ProcessPoolExecutor\n",
        "from datetime import date, timedelta\n",
        "import pandas as pd\n",
        "import gdelt\n",
        "import os\n",
        "\n",
        "# set up gdeltpyr for version 2\n",
        "gd = gdelt.gdelt(version=2)\n",
        "\n",
        "# multiprocess the query\n",
        "e = ProcessPoolExecutor()\n",
        "\n",
        "\n",
        "# generic functions to pull and write data to disk based on date\n",
        "def get_filename(x):\n",
        "  date = x.strftime('%Y%m%d')\n",
        "  return \"{}_gdeltdata_knowledge.csv\".format(date)\n",
        "\n",
        "def intofile(filename):\n",
        "    try:\n",
        "        if not os.path.exists(filename):\n",
        "          date = filename.split(\"_\")[0]\n",
        "          d = gd.Search(date, table='gkg',coverage=False) #not updata at 15mins\n",
        "          d.to_csv(filename,encoding='utf-8',index=False)\n",
        "    except:\n",
        "        print(\"Error occred\")\n",
        "\n",
        "# pull the data from gdelt into multi files; this may take a long time\n",
        "dates_before = [get_filename(x) for x in pd.date_range('2020 1 01', '2020 4 30')]\n",
        "#dates_after = [get_filename(x) for x in pd.date_range('2016 Nov 9','2019 Nov 15')]\n",
        "\n",
        "results = list(e.map(intofile,dates_before))"
      ],
      "execution_count": null,
      "outputs": [
        {
          "output_type": "stream",
          "text": [
            "/usr/local/lib/python3.6/dist-packages/gdelt/parallel.py:103: UserWarning: GDELT did not return data for date time 20200117234500\n",
            "  warnings.warn(message)\n"
          ],
          "name": "stderr"
        },
        {
          "output_type": "stream",
          "text": [
            "Error occred\n"
          ],
          "name": "stdout"
        },
        {
          "output_type": "stream",
          "text": [
            "/usr/local/lib/python3.6/dist-packages/gdelt/parallel.py:103: UserWarning: GDELT did not return data for date time 20200203234500\n",
            "  warnings.warn(message)\n"
          ],
          "name": "stderr"
        },
        {
          "output_type": "stream",
          "text": [
            "Error occred\n"
          ],
          "name": "stdout"
        },
        {
          "output_type": "stream",
          "text": [
            "/usr/local/lib/python3.6/dist-packages/gdelt/parallel.py:103: UserWarning: GDELT did not return data for date time 20200208234500\n",
            "  warnings.warn(message)\n"
          ],
          "name": "stderr"
        },
        {
          "output_type": "stream",
          "text": [
            "Error occred\n"
          ],
          "name": "stdout"
        },
        {
          "output_type": "stream",
          "text": [
            "/usr/local/lib/python3.6/dist-packages/gdelt/parallel.py:103: UserWarning: GDELT did not return data for date time 20200213234500\n",
            "  warnings.warn(message)\n"
          ],
          "name": "stderr"
        },
        {
          "output_type": "stream",
          "text": [
            "Error occred\n"
          ],
          "name": "stdout"
        },
        {
          "output_type": "stream",
          "text": [
            "/usr/local/lib/python3.6/dist-packages/gdelt/parallel.py:103: UserWarning: GDELT did not return data for date time 20200318234500\n",
            "  warnings.warn(message)\n"
          ],
          "name": "stderr"
        },
        {
          "output_type": "stream",
          "text": [
            "Error occred\n"
          ],
          "name": "stdout"
        },
        {
          "output_type": "stream",
          "text": [
            "/usr/local/lib/python3.6/dist-packages/gdelt/parallel.py:103: UserWarning: GDELT did not return data for date time 20200319234500\n",
            "  warnings.warn(message)\n"
          ],
          "name": "stderr"
        },
        {
          "output_type": "stream",
          "text": [
            "Error occred\n"
          ],
          "name": "stdout"
        }
      ]
    },
    {
      "cell_type": "markdown",
      "metadata": {
        "id": "F0qLViH0S3Bj",
        "colab_type": "text"
      },
      "source": [
        "Removing errors and loading data into RDD"
      ]
    },
    {
      "cell_type": "code",
      "metadata": {
        "id": "avhIPgxB74Wg",
        "colab_type": "code",
        "colab": {}
      },
      "source": [
        "from pyspark.sql import SQLContext\n",
        "sqlContext = SQLContext(sc)\n",
        "dates_before.remove('20200117_gdeltdata_knowledge.csv')\n",
        "dates_before.remove('20200203_gdeltdata_knowledge.csv')\n",
        "dates_before.remove('20200208_gdeltdata_knowledge.csv')\n",
        "dates_before.remove('20200213_gdeltdata_knowledge.csv')\n",
        "dates_before.remove('20200318_gdeltdata_knowledge.csv')\n",
        "dates_before.remove('20200319_gdeltdata_knowledge.csv')\n",
        "data_before = sqlContext.read.option(\"header\", \"true\").csv(dates_before)\n"
      ],
      "execution_count": null,
      "outputs": []
    },
    {
      "cell_type": "code",
      "metadata": {
        "id": "9uEfDb5FTcah",
        "colab_type": "code",
        "colab": {
          "base_uri": "https://localhost:8080/",
          "height": 54
        },
        "outputId": "a2a9f190-cf3f-404e-84f8-da0e357e9d61"
      },
      "source": [
        "#Pulls DocumentIdentifier column and V2Tone column into a RDD\n",
        "def get_articles(data):\n",
        "  article_titles = data.rdd.map(lambda row: (row['DocumentIdentifier'], row['V2Tone']))\n",
        "  return article_titles\n",
        "\n",
        "\n",
        "\n",
        "articles_and_tone = get_articles(data_before)\n",
        "dbg(articles_and_tone)"
      ],
      "execution_count": null,
      "outputs": [
        {
          "output_type": "stream",
          "text": [
            "[('http://www.therepublic.com/2020/03/16/virus-outbreak-illinois-3/', '-2.47678018575851,3.09597523219814,5.57275541795666,8.6687306501548,19.1950464396285,0.928792569659443,300'), ('https://www.wlfi.com/content/news/White-House-Avoid-groups-of-more-than-10-stay-away-from-bars-and-restaurants-568837861.html', '-3.08370044052863,1.76211453744493,4.84581497797357,6.6079295154185,24.2290748898678,2.86343612334802,424'), ('http://quadcitiesdaily.com/?p=582650', '-1.2987012987013,0.779220779220779,2.07792207792208,2.85714285714286,23.1168831168831,0.25974025974026,343'), ('https://www.cullmantimes.com/covid-19/alabama-at-virus-cases-calls-to-avoid-large-gatherings/article_92967f08-67c4-11ea-87f0-afd45ec5e3da.html', '-1.08108108108108,3.42342342342342,4.5045045045045,7.92792792792793,28.1081081081081,1.8018018018018,519'), ('https://www.dailyexaminer.com.au/news/are-shoppers-making-the-right-dietary-choice-in-th/3973560/', '1.44092219020173,2.88184438040346,1.44092219020173,4.32276657060519,21.9020172910663,0.576368876080692,290'), ('https://hailvarsity.com/s/9166/nebraska-cancels-spring-volleyball-match', '-3.2967032967033,0.549450549450549,3.84615384615385,4.3956043956044,20.8791208791209,0,168'), ('http://chestertontribune.com/Library/library_board_meets_new_young_ad.htm', '2.65339966832504,3.15091210613599,0.497512437810945,3.64842454394693,17.0812603648425,0,530'), ('https://news.kuwaittimes.net/website/129-new-deaths-in-iran-egypt-to-stop-flights/', '-3.886925795053,1.53121319199058,5.41813898704358,6.94935217903416,17.1967020023557,0.235571260306243,773'), ('https://www.chron.com/neighborhood/news/houston-texas/houston/article/HISD-other-school-districts-to-remain-closed-15135796.php', '0,1.69491525423729,1.69491525423729,3.38983050847458,21.6949152542373,0,286'), ('https://www.gadsdentimes.com/news/20200316/some-municipal-facilities-closing-for-now', '-1.20643431635389,1.07238605898123,2.27882037533512,3.35120643431635,27.2117962466488,0.536193029490617,683'), ('https://www.klll.com/syndicated-article/?id=1139929', '1.52671755725191,3.81679389312977,2.29007633587786,6.10687022900763,17.5572519083969,0,113'), ('https://www.indystar.com/story/sports/nfl/colts/2020/03/16/what-you-should-know-colts-dl-deforest-buckner/5063309002/', '0.466200466200466,3.03030303030303,2.56410256410256,5.59440559440559,20.5128205128205,0.932400932400932,351'), ('https://www.theisonews.com/forums/index.php?VALETSESS=mh6c3vt218pur6l69f0dlku7lo&action=credits', '3.27868852459016,4.91803278688525,1.63934426229508,6.55737704918033,22.9508196721311,6.55737704918033,52'), ('https://www.nbcwashington.com/news/local/dc-councilman-says-former-clergyman-abused-him/2243371/', '-9.28270042194093,1.26582278481013,10.5485232067511,11.8143459915612,21.9409282700422,0.843881856540084,219'), ('https://sunny999fm.iheart.com/content/2020-03-16-at-home-workouts-you-can-do-when-you-cant-get-to-the-gym/', '3.26975476839237,4.08719346049046,0.817438692098093,4.90463215258856,25.3405994550409,3.26975476839237,331'), ('https://www.wtma.com/news/a-customer-left-a-2500-tip-to-support-an-ohio-bar-that-had-to-close-because-of-coronavirus/', '-0.90702947845805,2.26757369614512,3.17460317460317,5.4421768707483,26.984126984127,1.58730158730159,405'), ('https://www.wbnq.com/news/reba-mcentire-mourns-the-death-of-her-mother-jacqueline/', '2.9535864978903,5.48523206751055,2.53164556962025,8.0168776371308,20.253164556962,2.53164556962025,215'), ('https://www.mystar98.com/news/reba-mcentire-mourns-the-death-of-her-mother-jacqueline/', '2.9535864978903,5.48523206751055,2.53164556962025,8.0168776371308,20.253164556962,2.53164556962025,215'), ('https://www.wellandtribune.ca/news-story/9908439-niagara-falls-closes-city-hall-all-public-facilities/', '0,1.2987012987013,1.2987012987013,2.5974025974026,20.7792207792208,0,132'), ('http://www.fortworthbusiness.com/news/millions-holed-up-at-home-as-u-s-routines-shift/article_38a9b9d2-67a7-11ea-8ebd-93ce99fb5249.html', '-3.87323943661972,2.02464788732394,5.89788732394366,7.92253521126761,24.0316901408451,0.880281690140845,1015'), ('https://www.coolum-news.com.au/news/rider-injured-late-night-motorbike-crash/3973948/', '-7.01754385964912,0,7.01754385964912,7.01754385964912,28.0701754385965,0,56'), ('https://biztimes.com/area-grocers-retailers-face-unprecedented-demand-during-coronavirus-outbreak/', '0,2.21300138312586,2.21300138312586,4.42600276625173,27.8008298755187,1.38312586445367,676'), ('http://www.ehfcl.com/en/women/News/6MjTjDm9G08x93S8byf6dA/Four_talking_points_as_the_main_round_concludes', '1.82648401826484,3.65296803652968,1.82648401826484,5.47945205479452,24.6575342465753,0.342465753424658,796'), ('https://1053myfm.iheart.com/content/2020-03-16-lhhh-star-yung-berg-accused-of-brutally-pistol-whipping-his-girlfriend/', '-9.67741935483871,1.7921146953405,11.4695340501792,13.2616487455197,26.1648745519713,0,263'), ('https://www.limaohio.com/news/402617/moon-city-hosting-spring-job-fair', '1.61290322580645,1.61290322580645,0,1.61290322580645,20.9677419354839,0,38'), ('https://www.kkfm.com/news/mel-brooks-and-his-son-explain-social-distancing-so-you-dont-endanger-our-national-treasure-mel-brooks/', '3.48258706467662,4.97512437810945,1.49253731343284,6.46766169154229,22.8855721393035,0.497512437810945,178'), ('https://963theblaze.com/missoula-county-closes-bars-and-some-restaurants-for-one-week/', '-0.65359477124183,0.980392156862745,1.63398692810458,2.61437908496732,27.1241830065359,0.65359477124183,275'), ('https://tampabaysmix.iheart.com/content/2020-03-16-many-court-proceedings-in-florida-on-hold-for-at-least-two-weeks/', '-5.20231213872832,1.15606936416185,6.35838150289017,7.51445086705202,27.1676300578035,1.73410404624277,161'), ('https://www.bcliving.ca/How-to-Get-Your-Best-Beauty-Sleep-Ever', '3.125,5.55555555555556,2.43055555555556,7.98611111111111,30.7291666666667,2.25694444444444,521'), ('https://www.latimes.com/socal/la-canada-valley-sun/entertainment/story/2020-03-16/the-valley-line-la-canada-juniors-rock-out-just-in-the-nick-of-time', '2.15462610899873,5.06970849176172,2.91508238276299,7.98479087452472,20.659062103929,1.64765525982256,709'), ('https://www.tillamookheadlightherald.com/community/port-of-tillamook-bay-office-and-facility-closures/article_34731e4c-67bd-11ea-a638-5f14611428e4.html', '0,1.2396694214876,1.2396694214876,2.47933884297521,30.1652892561983,0.826446280991736,190'), ('http://exclaim.ca/music/article/chief_public_health_officer_recommends_all_canadians_avoid_events_over_50_people', '1.09409190371991,4.81400437636762,3.7199124726477,8.53391684901532,22.3194748358862,0.218818380743982,408'), ('https://www.gadsdentimes.com/news/20200316/gscc-makes-switch-to-online-instruction', '1.21212121212121,2.42424242424242,1.21212121212121,3.63636363636364,25.4545454545455,0.909090909090909,292'), ('https://www.aol.com/article/news/2020/03/16/states-scramble-to-address-coronavirus-concerns-ahead-of-tuesdays-primary/23952098/', '-1.39002452984464,2.28945216680294,3.67947669664759,5.96892886345053,24.2027800490597,0.735895339329518,1110'), ('https://rock921.iheart.com/content/2020-03-16-dow-plunges-nearly-3000-points-amid-coronavirus-pandemic/', '-2.54545454545455,0.727272727272727,3.27272727272727,4,22.1818181818182,0.727272727272727,250'), ('https://www.bankingday.com/nl06_news_selected.php?act=2&stream=60&selkey=25933&hlc=2&hlw=', '0,4.12371134020619,4.12371134020619,8.24742268041237,15.4639175257732,2.06185567010309,80'), ('https://wbul.iheart.com/content/2020-03-16-idris-elba-says-he-tested-positive-for-coronavirus/', '-0.884955752212389,2.21238938053097,3.09734513274336,5.30973451327434,22.5663716814159,0.884955752212389,214'), ('https://1660thefan.com/news/articles/2020/mar/16/southwest-michigan-regional-chamber-encouraging-local-patronage/995344/', '1.58730158730159,3.17460317460317,1.58730158730159,4.76190476190476,23.2804232804233,2.11640211640212,348'), ('https://www.cnn.com/2020/03/16/success/mortgage-rate-fed-cut/', '-1.67597765363128,1.86219739292365,3.53817504655493,5.40037243947858,31.098696461825,0.931098696461825,489'), ('https://www.wa1a.com/news/love-is-blind-couple-launches-youtube-channel/', '5.02793296089385,6.14525139664804,1.11731843575419,7.26256983240224,24.5810055865922,2.79329608938547,156'), ('https://www.dailyexaminer.com.au/news/desperate-plea-for-critical-blood-donors/3974002/', '-0.925925925925926,2.77777777777778,3.7037037037037,6.48148148148148,30.5555555555556,2.77777777777778,301'), ('https://abc7chicago.com/health/no-visitors-allowed-hospitals-cancel-non-essential-surgeries-prepare-for-covid-19-patient-influx/6018403/', '-0.45662100456621,3.42465753424658,3.88127853881279,7.30593607305936,23.0593607305936,1.14155251141552,412'), ('https://whyn.iheart.com/content/2020-03-16-single-gop-congressman-stops-coronavirus-relief-bill-from-moving-to-senate/', '0,2.1505376344086,2.1505376344086,4.3010752688172,25.089605734767,1.4336917562724,254'), ('https://www.wimbledonguardian.co.uk/news/national/18309856.stormont-ministers-agree-measures-delay-spread-coronavirus/', '-0.371287128712872,3.58910891089109,3.96039603960396,7.54950495049505,28.0940594059406,1.48514851485149,779'), ('https://www.abc.net.au/news/2020-03-17/victoria-coronavirus-covid19-cases-rise-as-primary-school-closes/12061904', '-4,2,6,8,28.8888888888889,0.222222222222222,388'), ('https://www.cairnspost.com.au/entertainment/television/married-at-first-sight-jonethen-musulin-reveals-he-signed-a-secret-contract/news-story/3f71672b5f6212c032d553f828ae20e5?nk=aa19d3463962dac7360fa1e01a6edc3e-1584401525', '0.837520938023451,3.18257956448911,2.34505862646566,5.52763819095477,24.6231155778894,1.34003350083752,556'), ('https://www.tribuneledgernews.com/local_news/state_and_national/georgia-governor-closes-all-public-schools-colleges/article_63ca7f09-4216-5243-a40e-69be5c3d2159.html', '-2.94396961063628,1.89933523266857,4.84330484330484,6.74264007597341,23.7416904083571,0.189933523266857,960'), ('https://www.noosanews.com.au/news/souths-clash-could-be-boyds-farewell/3973754/', '-0.571428571428572,2.28571428571429,2.85714285714286,5.14285714285714,27.047619047619,1.71428571428571,474'), ('https://1660thefan.com/news/articles/2020/mar/16/whitmer-signs-executive-order-extending-unemployment-benefits/995330/', '-1.28440366972477,3.11926605504587,4.40366972477064,7.52293577981651,25.1376146788991,0.917431192660551,488'), ('https://www.polygon.com/2020/3/16/21182474/regal-cinemas-closing-movie-theaters-coronavirus-covid-19', '0.268817204301075,2.1505376344086,1.88172043010753,4.03225806451613,21.2365591397849,0,336'), ('https://www.wahpetondailynews.com/news/coronavirus/putting-community-first/article_ff707314-67b4-11ea-990d-479629d6aaee.html', '2.3972602739726,3.76712328767123,1.36986301369863,5.13698630136986,22.6027397260274,5.13698630136986,218'), ('https://kissfmrgv.iheart.com/featured/ryan-seacrest/content/2020-03-16-st-pattys-day-make-these-shamrock-eggs-with-sisanie-watch/', '-0.892857142857143,1.78571428571429,2.67857142857143,4.46428571428571,29.4642857142857,4.46428571428571,99'), ('https://www.ksks.com/news/reba-mcentire-mourns-the-death-of-her-mother-jacqueline/', '2.9535864978903,5.48523206751055,2.53164556962025,8.0168776371308,20.253164556962,2.53164556962025,215'), ('https://www.business-standard.com/article/news-ani/5-killed-in-shooting-in-us-missouri-120031700120_1.html', '-6.60377358490566,0,6.60377358490566,6.60377358490566,27.3584905660377,0,96'), ('https://journalstar.com/entertainment/cinemas-across-u-s-close-for-pandemic/article_3e26fe7b-abf1-5474-a4f9-51dd5a43daab.html', '-1.41043723554302,0.987306064880113,2.39774330042313,3.38504936530324,24.8236953455571,0.564174894217207,648'), ('http://www.nydailynews.com/new-york/nyc-crime/ny-fdny-coronavirus-20200316-qdwmwobgcjdcxf7jf3drbauiji-story.html', '-4.67289719626168,0,4.67289719626168,4.67289719626168,19.6261682242991,0,101'), ('https://www.thelondoneconomic.com/news/coronavirus-uk-economy-will-come-roaring-back-after-covid-19-says-johnson/16/03/', '-2.4,2.13333333333333,4.53333333333333,6.66666666666667,24.8,3.2,354'), ('https://www.alternet.org/2020/03/conservatives-arent-panicking-yet-about-the-coronavirus-but-they-will/', '-3.47593582887701,3.07486631016043,6.55080213903743,9.62566844919786,22.4598930481283,0.401069518716578,692'), ('https://www.cnn.com/2020/03/16/investing/stock-futures-up-coronavirus/', '-6.03448275862069,0,6.03448275862069,6.03448275862069,24.5689655172414,0,212'), ('https://jalopnik.com/what-to-do-while-hiding-from-coronavirus-design-nasas-1842365856', '-0.2909796314258,2.23084384093113,2.52182347235693,4.75266731328807,21.5324927255092,1.26091173617847,937'), ('https://www.wbnq.com/news/love-is-blind-couple-launches-youtube-channel/', '5.02793296089385,6.14525139664804,1.11731843575419,7.26256983240224,24.5810055865922,2.79329608938547,156'), ('https://www.spokanepublicradio.org/?page=7013', '10.2564102564103,10.2564102564103,0,10.2564102564103,12.8205128205128,0,38'), ('https://www.cqnews.com.au/news/ufc-finally-gets-with-the-program/3973974/', '-2.97397769516729,1.48698884758364,4.46096654275093,5.94795539033457,28.996282527881,4.83271375464684,481'), ('https://www.delta-optimist.com/nhl-optimistically-aims-for-mid-may-return-to-action-1.24099050', '-1.70068027210884,1.87074829931973,3.57142857142857,5.4421768707483,22.108843537415,0.340136054421769,518'), ('https://northattleborough.wickedlocal.com/opinion/20200316/column-heres-what-aggressive-social-distancing-looks-like-over-next-two-weeks', '-0.888230940044412,2.44263508512213,3.33086602516654,5.77350111028867,23.0940044411547,2.96076980014804,1221'), ('https://www.stourbridgenews.co.uk/news/national/18309831.250-000-will-die-unless-stricter-virus-measures-adopted-warn-scientists/', '0.108695652173912,4.02173913043478,3.91304347826087,7.93478260869565,25,1.95652173913044,856'), ('https://kvia.com/lifestyle/entertainment/2020/03/16/disney-juniors-mira-royal-detective-is-india-inspired/', '4.21607378129117,4.74308300395257,0.527009222661397,5.27009222661397,21.6073781291173,1.31752305665349,683'), ('https://globegazette.com/lifestyles/anna-wintour-met-gala-postponed-due-to-the-virus-outbreak/article_d2736ebf-f347-57f5-a51f-7ebe175fab1f.html', '-2.52365930599369,2.52365930599369,5.04731861198738,7.57097791798107,22.7129337539432,0,287'), ('https://www.burytimes.co.uk/news/national/18309831.250-000-will-die-unless-stricter-virus-measures-adopted-warn-scientists/', '0.108695652173912,4.02173913043478,3.91304347826087,7.93478260869565,25,1.95652173913044,856'), ('https://www.prnewswire.com/news-releases/pwc-cfo-covid-19-pulse-survey-the-first-in-a-bi-monthly-series-that-shows-how-cfos-and-finance-leaders-plan-to-react-to-covid-19--and-what-impacts-they-expect-to-see-301024904.html', '-0.511073253833049,2.72572402044293,3.23679727427598,5.96252129471891,23.3390119250426,2.0442930153322,515'), ('https://www.wtma.com/news/goldman-sachs-warns-us-stocks-could-plunge-another-16-before-rapidly-recovering/', '-5.03833515881709,1.97152245345016,7.00985761226725,8.98138006571742,23.986856516977,0.657174151150055,838'), ('https://www.greenwichtime.com/news/coronavirus/article/Photos-Empty-shelves-in-Greenwich-15135464.php', '-2.20994475138122,3.31491712707182,5.52486187845304,8.83977900552486,23.7569060773481,0,175'), ('https://www.klik1240.com/news/trump-says-hes-told-his-13-year-old-son-the-coronavirus-situation-is-bad/', '-1.03448275862069,2.75862068965517,3.79310344827586,6.55172413793103,21.0344827586207,3.10344827586207,257'), ('https://www.gazetteherald.co.uk/news/national/18309856.stormont-ministers-agree-measures-delay-spread-coronavirus/', '-0.371287128712872,3.58910891089109,3.96039603960396,7.54950495049505,28.0940594059406,1.48514851485149,779'), ('https://www.caribbeanherald.com/news/264330023/canada-as-a-country-goes-into-self-isolation', '-2.09424083769633,1.57068062827225,3.66492146596859,5.23560209424084,21.9895287958115,1.04712041884817,178'), ('https://wsau.com/news/articles/2020/mar/16/exclusive-shale-gas-pioneer-chesapeake-energy-taps-restructuring-advisers-sources/995369/', '-4.03225806451613,1.00806451612903,5.04032258064516,6.04838709677419,22.9838709677419,0,449'), ('https://www.kggo.com/news/joan-jett-on-coronavirus-pandemic-this-is-real-and-we-all-must-take-it-seriously/', '-1.36612021857923,2.73224043715847,4.0983606557377,6.83060109289618,21.0382513661202,3.55191256830601,318'), ('https://www.popsugar.com.au/beauty/beauty-stores-closed-coronavirus-47312823', '-1.06382978723404,1.59574468085106,2.65957446808511,4.25531914893617,22.8723404255319,3.19148936170213,173'), ('https://www.thehawkeye.com/zz/news/20200316/dow-dives-2999-points-on-fears-virus-will-cause-recession', '-4.2212518195051,2.03784570596798,6.25909752547307,8.29694323144105,24.3813682678311,0.145560407569141,1242'), ('https://www.heraldglobe.com/news/264330810/reports-broncos-agree-to-sign-ol-glasgow-to-44m-deal', '0,2.18978102189781,2.18978102189781,4.37956204379562,22.2627737226277,0.364963503649635,243'), ('https://www.stourbridgenews.co.uk/news/18309012.dudley-group-stages-open-day-recruit-nurses/', '6.81818181818182,6.81818181818182,0,6.81818181818182,21.5909090909091,0,79'), ('https://www.mlive.com/news/grand-rapids/2020/03/investigation-into-ottawa-county-coronavirus-case-ongoing.html', '-2.21606648199446,1.38504155124654,3.601108033241,4.98614958448753,22.4376731301939,2.21606648199446,348'), ('https://www.watoday.com.au/lifestyle/health-and-wellness/the-set-point-why-it-can-be-so-hard-to-maintain-weight-loss-20200311-p548zu.html', '-1.98019801980198,2.80528052805281,4.78547854785479,7.59075907590759,26.0726072607261,3.3003300330033,546'), ('https://www.thechronicle.com.au/news/inquest-into-mysterious-death-of-woman-found-in-ri/3973244/', '-4.35992578849722,0.834879406307978,5.19480519480519,6.02968460111317,23.0983302411874,0.0927643784786642,990'), ('https://knsiradio.com/news/local-news/governor-orders-all-minnesota-bars-and-restaurants-close', '0.17636684303351,2.64550264550265,2.46913580246914,5.11463844797178,22.2222222222222,1.58730158730159,473'), ('https://www.chichester.co.uk/health/coronavirus-heres-how-you-can-get-help-bosham-2456359', '-1.33333333333333,2.66666666666667,4,6.66666666666667,32.8888888888889,2.22222222222222,206'), ('https://www.noosanews.com.au/news/rider-injured-late-night-motorbike-crash/3973948/', '-7.01754385964912,0,7.01754385964912,7.01754385964912,28.0701754385965,0,56'), ('https://cogconnected.com/2020/03/inside-final-fantasy-7-remake-new-midgar/', '0.429184549356223,1.28755364806867,0.858369098712446,2.14592274678112,24.0343347639485,2.14592274678112,207'), ('https://www.couriermail.com.au/entertainment/television/bear-the-dog-helps-rescue-koalas-in-australias-horror-bushfire-conditions/news-story/35ca395b0ddc6399f6c1e97197d460b4?nk=4f48e22da9bd7d4c475a34ef501f9e0b-1584401563', '0.943396226415095,5.89622641509434,4.95283018867925,10.8490566037736,21.6981132075472,0.943396226415094,390'), ('https://www.greenwichtime.com/business/article/5-Ways-to-Protect-Your-Company-From-Cybercrime-15134540.php', '-3.90309555854643,1.61507402422611,5.51816958277254,7.13324360699865,23.1493943472409,1.34589502018843,674'), ('https://www.wdzz.com/news/mel-brooks-and-his-son-explain-social-distancing-so-you-dont-endanger-our-national-treasure-mel-brooks/', '3.48258706467662,4.97512437810945,1.49253731343284,6.46766169154229,22.8855721393035,0.497512437810945,178'), ('http://www.earthquakenewstoday.com/2020/03/16/minor-earthquake-3-mag-was-detected-near-anchor-point-in-alaska-6/', '-2.08333333333333,0,2.08333333333333,2.08333333333333,18.0555555555556,0.347222222222222,234'), ('https://961kiss.iheart.com/content/2020-03-16-the-killers-donating-part-of-ticket-sales-to-service-industry-amid-covid-19/', '-0.181818181818182,2,2.18181818181818,4.18181818181818,20.1818181818182,1.45454545454545,542'), ('https://www.realclearworld.com/articles/2020/03/16/sanctions_wont_bust_russia-venezuela_relationship_486742.html', '-3.96158463385354,2.76110444177671,6.72268907563025,9.48379351740696,18.9675870348139,0,777'), ('https://www.detroitnews.com/story/entertainment/dining/2020/03/16/new-website-lists-restaurants-offering-carry-out-and-delivery/5060849002/', '0.702576112412178,2.10772833723653,1.40515222482436,3.51288056206089,26.463700234192,1.63934426229508,371'), ('https://www.businessinsider.com/doordash-offering-hand-sanitizer-to-drivers-in-just-400-cities-2020-3', '-0.485436893203884,1.69902912621359,2.18446601941748,3.88349514563107,22.8155339805825,0.485436893203883,369'), ('https://knsiradio.com/news/local-news/store-offers-shopping-those-risk-covid-19', '-1.40845070422535,0.938967136150235,2.34741784037559,3.28638497652582,23.943661971831,0.469483568075117,362'), ('https://www.coolum-news.com.au/news/qantas-t-cut-90-cent-international-flights/3974017/', '-6.54205607476635,0,6.54205607476635,6.54205607476635,25.7009345794392,0,199'), ('https://www.oaoa.com/news/local/article_373e1a20-67d4-11ea-88b2-07a9c68ac373.html', '-2.66666666666667,0.5,3.16666666666667,3.66666666666667,23.5,0.833333333333333,559'), ('https://www.stampedeblue.com/2020/3/16/21182178/winston-and-some-others-are-a-better-option-than-rivers', '-2.54545454545455,0.727272727272727,3.27272727272727,4,18.1818181818182,1.45454545454545,205')]\n"
          ],
          "name": "stdout"
        }
      ]
    },
    {
      "cell_type": "markdown",
      "metadata": {
        "id": "nURsHBybTbsD",
        "colab_type": "text"
      },
      "source": [
        "Cleaning data to get information I want"
      ]
    },
    {
      "cell_type": "code",
      "metadata": {
        "id": "rKa6y22WV6Ri",
        "colab_type": "code",
        "colab": {
          "base_uri": "https://localhost:8080/",
          "height": 54
        },
        "outputId": "319dc3ef-1bf2-447f-d509-3f61a2eb6f38"
      },
      "source": [
        "#Pulls title words out of the URL for the article\n",
        "def retrieve_title_words(url, tone):\n",
        "  tone_split = tone.split(',')\n",
        "  title_words = []\n",
        "  splitted = url.split('/')\n",
        "  index_longest, title = max(enumerate(splitted), key=lambda x: len(x[1]))\n",
        "  title = splitted[index_longest].split('-')\n",
        "  for word in title:\n",
        "    if word.isalpha():\n",
        "      title_words.append((word.lower(), (tone_split[1], tone_split[2])))\n",
        "\n",
        "  return title_words\n",
        "\n",
        "\n",
        "#Finds the average tone and count for each word\n",
        "def get_average_tone(tones):\n",
        "  count = 0 \n",
        "  positive_tone = 0\n",
        "  negative_tone = 0 \n",
        "  for tone in tones:\n",
        "    count += 1 \n",
        "    post, neg = tone\n",
        "    positive_tone += float(post)\n",
        "    negative_tone += float(neg)\n",
        "\n",
        "  average_positive = positive_tone / count\n",
        "  average_negative = negative_tone / count\n",
        "\n",
        "  return (average_positive, average_negative, count)\n",
        "\n",
        "\n",
        "words = articles_and_tone.flatMap(lambda article: retrieve_title_words(article[0], article[1]))\n",
        "grouped_words = words.groupByKey()\n",
        "average_values = grouped_words.map(lambda word: (word[0], (get_average_tone(word[1]))))\n",
        "\n",
        "#Results in a tuple with the word, average positive value, average negative value, and the count\n",
        "dbg(average_values)\n"
      ],
      "execution_count": null,
      "outputs": [
        {
          "output_type": "stream",
          "text": [
            "[('stay', (2.395440680170068, 3.929293288838827, 1437)), ('away', (3.0145291343589657, 3.599021803965823, 526)), ('from', (2.6277298892901095, 4.09292678329845, 6587)), ('stop', (2.261733015122269, 4.789064678182165, 901)), ('for', (2.719459856631577, 3.6934682799038074, 22774)), ('know', (2.6041378003368956, 3.876983610796045, 782)), ('workouts', (3.6246962114697148, 2.1163644245798903, 42)), ('florida', (2.053303481157232, 4.371737770970795, 1320)), ('ever', (2.9306901861862507, 2.786778099779826, 350)), ('states', (2.327423297905348, 4.094844334517046, 971)), ('primary', (2.4233699461904914, 2.7742600471979006, 603)), ('executive', (2.9204878919521002, 2.9571708441665723, 301)), ('they', (2.535427644371628, 4.006933091041259, 744)), ('aims', (3.066028588277449, 3.0932096274937373, 192)), ('anna', (3.3887938205020043, 2.774350123145253, 39)), ('wintour', (2.8358670414140588, 4.056829438180544, 13)), ('pulse', (2.725081606176108, 3.135096511324566, 14)), ('before', (2.5110289717834333, 3.761232575279487, 658)), ('old', (2.1366211991283963, 4.476212198043208, 1521)), ('chesapeake', (3.066614049506982, 4.102640433283964, 27)), ('broncos', (2.5617449766839924, 3.404061857059011, 82)), ('part', (2.8416698886138603, 3.1459254610445613, 489)), ('police', (1.3146318820113478, 5.893385334236244, 3456)), ('which', (2.7183801971737624, 3.375894517953501, 170)), ('kamloops', (2.5814711476719125, 3.9110514573405752, 55)), ('buy', (2.8645164495258633, 2.3919326061559643, 376)), ('depression', (2.9693951457119057, 6.2734872976896, 80)), ('alya', (2.14007782101167, 7.97665369649805, 1)), ('released', (2.172512511968927, 5.256096209376037, 400)), ('sf', (2.888581520529956, 3.4030915640916284, 50)), ('rumors', (2.6861441160254733, 3.0316502473324083, 172)), ('places', (2.866375400825538, 3.2196504679168814, 148)), ('implements', (2.506484887760743, 3.2273498346121197, 30)), ('still', (2.5693257029963905, 3.396421446816666, 1027)), ('im', (3.0633967023754938, 3.5482511437280437, 189)), ('lapaglia', (1.98300283286119, 2.54957507082153, 2)), ('not', (2.436427461138526, 4.583038935198556, 2653)), ('bel', (2.3573859856754744, 3.6076748564314354, 16)), ('mcvea', (3.61990950226244, 2.26244343891403, 1)), ('roundup', (2.8299199637593935, 3.3899026925565083, 213)), ('nh', (2.3400622344120796, 3.1198781433714635, 124)), ('ski', (2.2769837951822507, 3.1171197990923782, 110)), ('balado', (0.0, 2.04081632653061, 1)), ('almost', (2.7411898443791665, 4.204487746032106, 189)), ('trucking', (1.8074999470246689, 2.578624801816721, 15)), ('north', (2.255628169159653, 3.7008373933849694, 1154)), ('phishing', (2.02247283759359, 5.549259836891343, 18)), ('exercise', (3.259338621878934, 3.2535321238823474, 84)), ('molests', (1.1756534266309946, 8.203848528503805, 2)), ('yr', (2.557708479447467, 5.106784913321026, 17)), ('earnings', (2.5197540015023376, 1.7875473513805173, 474)), ('further', (2.3291877163902828, 3.8510212376185438, 218)), ('suspension', (2.356324741845935, 4.876998470564124, 90)), ('retired', (2.7453632325723825, 3.6966027938546686, 104)), ('declare', (2.9785419333958303, 3.9005548232496814, 102)), ('swimming', (2.825679205894024, 2.870132854519358, 58)), ('interference', (2.6688831558610104, 5.465639161644919, 36)), ('kids', (2.995274147796618, 3.276762472031214, 907)), ('supply', (2.4215442849522817, 3.3146806900929673, 297)), ('bitterroot', (2.102150323809005, 4.180898708702825, 4)), ('category', (2.7647636064543026, 3.7931615425876077, 18)), ('yeo', (2.62172284644195, 2.24719101123596, 1)), ('climate', (2.3442993450358642, 3.7633958795499205, 458)), ('candidly', (3.640761029184179, 2.853420313885824, 8)), ('debbie', (4.614892523656407, 2.278439310567423, 9)), ('entities', (2.71568343640598, 3.1600710049205993, 12)), ('titled', (4.196475571871547, 1.21186420019029, 7)), ('uc', (3.2576318451145077, 3.2524556644375506, 42)), ('busted', (1.2619548533834388, 6.096440722427411, 37)), ('rape', (1.7947933597540018, 8.111458785452982, 284)), ('questions', (2.089527488773557, 4.090503375481763, 463)), ('kcc', (3.671328671328675, 3.7684537684537696, 2)), ('mayor', (2.2414724495969143, 3.85963360503972, 587)), ('negative', (2.012170969747559, 4.971255243175231, 158)), ('shrinking', (1.9835998678263522, 3.7514420816008096, 17)), ('there', (2.592758904692336, 3.8767951212838527, 289)), ('warning', (1.9849268044372652, 5.396450581897632, 393)), ('scenario', (2.343606056978801, 3.433301638986107, 32)), ('veterans', (3.673967818418458, 3.4869318570310344, 258)), ('prices', (1.4588163474743288, 3.4881900032588904, 411)), ('springfield', (2.415033200584367, 3.889283458719296, 72)), ('quinn', (3.10932008417513, 4.234539585898258, 31)), ('department', (2.4341528755437096, 4.086130734839172, 596)), ('sc', (2.3702972018232806, 3.5639445434236823, 234)), ('penticton', (2.0650613767733135, 3.7265395122065774, 30)), ('meetings', (2.3335931117278506, 2.6814551851912674, 123)), ('isd', (2.362294149054702, 2.1831899262033536, 66)), ('domestic', (1.9596163045527173, 6.682288136531767, 247)), ('supervisors', (1.936486392752085, 2.808029978638904, 38)), ('philip', (3.031765038914236, 3.026520580506189, 38)), ('african', (2.861924063158558, 3.708916988039489, 212)), ('detect', (2.2625845690218207, 4.4081309121760315, 51)), ('creature', (1.8907423255445854, 3.9833977548840687, 8)), ('shortcuts', (4.168967085894165, 5.127313861775065, 2)), ('peaks', (2.2714626802539573, 2.9447693314520698, 23)), ('controversy', (2.299956770726984, 4.702257153716471, 73)), ('staar', (2.639921454846593, 2.0699585935915796, 3)), ('democracy', (3.359757115729456, 5.442695241690859, 85)), ('preparing', (2.5204999062619664, 3.666026790012457, 118)), ('children', (2.685735596417396, 4.622262385378401, 708))]\n"
          ],
          "name": "stdout"
        }
      ]
    },
    {
      "cell_type": "code",
      "metadata": {
        "id": "_It2KouQAJeJ",
        "colab_type": "code",
        "colab": {
          "base_uri": "https://localhost:8080/",
          "height": 87
        },
        "outputId": "2c37552d-7d91-49a3-ae56-e58c217eb834"
      },
      "source": [
        "#Get rid of words that appear less than 10 times\n",
        "frequent_words = average_values.filter(lambda word: word[1][2] >= 10)\n",
        "\n",
        "#To check the algorithm is currently working by showing ordered positive, negative, and common words. \n",
        "max_positive_words = frequent_words.takeOrdered(10, lambda word: -1 * word[1][0])\n",
        "max_negative_words = frequent_words.takeOrdered(10, lambda word: -1 * word[1][1])\n",
        "most_common_words = frequent_words.takeOrdered(10, lambda word: -1 * word[1][2])\n",
        "print(max_positive_words)\n",
        "print(max_negative_words)\n",
        "print(most_common_words)"
      ],
      "execution_count": null,
      "outputs": [
        {
          "output_type": "stream",
          "text": [
            "[('marnie', (12.34654377880187, 2.3152073732718934, 10)), ('deuce', (11.238801531541537, 4.558380729340915, 14)), ('charms', (9.998338449903763, 2.131270385521205, 17)), ('romes', (9.60643731172406, 0.5844720006318618, 11)), ('glaad', (8.560753799074352, 1.4871361089752777, 10)), ('dancetogether', (8.360128617363342, 1.2861736334405103, 11)), ('naacp', (8.172311822919497, 1.5131879235012913, 27)), ('euromillions', (8.17028294566593, 0.6954297500593026, 18)), ('perishers', (8.0, 2.0, 13)), ('delicious', (7.975082380385072, 1.4575488243746577, 19))]\n",
            "[('terroristic', (0.0, 17.006802721088402, 11)), ('munchausen', (1.2245693495693486, 15.108590733590757, 13)), ('cyberstalked', (2.38095238095238, 12.8571428571429, 11)), ('cuffs', (1.3417052735343917, 12.811245996425619, 11)), ('sucking', (0.27169765241017174, 12.35064448690106, 17)), ('bacterial', (2.2487324355292104, 11.493026520207055, 24)), ('sudesh', (2.097818859243048, 11.481523312124763, 11)), ('allergies', (1.3707543670643563, 11.099822308651593, 27)), ('prioritised', (2.9782764763753318, 11.049748730357063, 11)), ('extort', (2.1670296363647177, 10.9222474456344, 26))]\n",
            "[('to', (2.751795091845927, 3.6421751206825403, 44098)), ('in', (2.3262248296439623, 4.339089025664139, 31563)), ('of', (2.6412721552398666, 4.047659440414473, 24858)), ('for', (2.719459856631577, 3.6934682799038074, 22774)), ('the', (3.0278087137494145, 3.387708617267349, 22407)), ('coronavirus', (2.350726900582952, 4.480092701979211, 20537)), ('and', (3.0055707701154546, 3.4526049361102213, 14170)), ('on', (2.56996343778668, 3.850677938804921, 14059)), ('a', (2.944845475374502, 3.5682771101040904, 12053)), ('new', (2.718005312398673, 3.313151351148992, 11162))]\n"
          ],
          "name": "stdout"
        }
      ]
    },
    {
      "cell_type": "markdown",
      "metadata": {
        "id": "U5yrXy7BUxbm",
        "colab_type": "text"
      },
      "source": [
        "Load Data into a Dataframe to use with KMeans"
      ]
    },
    {
      "cell_type": "code",
      "metadata": {
        "id": "0hTblH1fV7DH",
        "colab_type": "code",
        "colab": {}
      },
      "source": [
        "from pyspark.sql.types import *\n",
        "from pyspark.sql.functions import udf"
      ],
      "execution_count": null,
      "outputs": []
    },
    {
      "cell_type": "code",
      "metadata": {
        "id": "ZPMO4TjSKK20",
        "colab_type": "code",
        "colab": {
          "base_uri": "https://localhost:8080/",
          "height": 588
        },
        "outputId": "d951cb65-0e03-4ca5-fd5a-bcf9c84e88c0"
      },
      "source": [
        "dataframe = frequent_words.map(lambda x: (x[0], x[1][0], x[1][1], x[1][2], [x[1][0], x[1][1]]))\n",
        "schemaWords = (sqlContext.createDataFrame(dataframe)\n",
        "                            .withColumnRenamed(\"_1\", \"word\")\n",
        "                            .withColumnRenamed(\"_2\", \"positive\")\n",
        "                            .withColumnRenamed(\"_3\", \"negative\")\n",
        "                            .withColumnRenamed(\"_4\", \"count\")\n",
        "                            .withColumnRenamed(\"_5\", \"features\"))\n",
        "\n",
        "new_schema = ArrayType(DoubleType(), containsNull = False)\n",
        "udf_foo = udf(lambda x:x, new_schema)\n",
        "\n",
        "\n",
        "total_schema = schemaWords.withColumn(\"features\",udf_foo(\"features\"))\n",
        "\n",
        "total_schema.printSchema()\n",
        "total_schema.show()"
      ],
      "execution_count": null,
      "outputs": [
        {
          "output_type": "stream",
          "text": [
            "root\n",
            " |-- word: string (nullable = true)\n",
            " |-- positive: double (nullable = true)\n",
            " |-- negative: double (nullable = true)\n",
            " |-- count: long (nullable = true)\n",
            " |-- features: array (nullable = true)\n",
            " |    |-- element: double (containsNull = false)\n",
            "\n",
            "+----------+------------------+------------------+-----+--------------------+\n",
            "|      word|          positive|          negative|count|            features|\n",
            "+----------+------------------+------------------+-----+--------------------+\n",
            "|      stay| 2.395440680170068| 3.929293288838827| 1437|[2.39544068017006...|\n",
            "|      away|3.0145291343589657| 3.599021803965823|  526|[3.01452913435896...|\n",
            "|      from|2.6277298892901095|  4.09292678329845| 6587|[2.62772988929010...|\n",
            "|      stop| 2.261733015122269| 4.789064678182165|  901|[2.26173301512226...|\n",
            "|       for| 2.719459856631577|3.6934682799038074|22774|[2.71945985663157...|\n",
            "|      know|2.6041378003368956| 3.876983610796045|  782|[2.60413780033689...|\n",
            "|  workouts|3.6246962114697148|2.1163644245798903|   42|[3.62469621146971...|\n",
            "|   florida| 2.053303481157232| 4.371737770970795| 1320|[2.05330348115723...|\n",
            "|      ever|2.9306901861862507| 2.786778099779826|  350|[2.93069018618625...|\n",
            "|    states| 2.327423297905348| 4.094844334517046|  971|[2.32742329790534...|\n",
            "|   primary|2.4233699461904914|2.7742600471979006|  603|[2.42336994619049...|\n",
            "| executive|2.9204878919521002|2.9571708441665723|  301|[2.92048789195210...|\n",
            "|      they| 2.535427644371628| 4.006933091041259|  744|[2.53542764437162...|\n",
            "|      aims| 3.066028588277449|3.0932096274937373|  192|[3.06602858827744...|\n",
            "|      anna|3.3887938205020043| 2.774350123145253|   39|[3.38879382050200...|\n",
            "|   wintour|2.8358670414140588| 4.056829438180544|   13|[2.83586704141405...|\n",
            "|     pulse| 2.725081606176108| 3.135096511324566|   14|[2.72508160617610...|\n",
            "|    before|2.5110289717834333| 3.761232575279487|  658|[2.51102897178343...|\n",
            "|       old|2.1366211991283963| 4.476212198043208| 1521|[2.13662119912839...|\n",
            "|chesapeake| 3.066614049506982| 4.102640433283964|   27|[3.06661404950698...|\n",
            "+----------+------------------+------------------+-----+--------------------+\n",
            "only showing top 20 rows\n",
            "\n"
          ],
          "name": "stdout"
        }
      ]
    },
    {
      "cell_type": "markdown",
      "metadata": {
        "id": "OqiBvgaRU-Wc",
        "colab_type": "text"
      },
      "source": [
        "Kmeans Clustering"
      ]
    },
    {
      "cell_type": "code",
      "metadata": {
        "id": "sKP_vRTHQwPx",
        "colab_type": "code",
        "colab": {}
      },
      "source": [
        "from pyspark.ml.clustering import KMeans"
      ],
      "execution_count": null,
      "outputs": []
    },
    {
      "cell_type": "code",
      "metadata": {
        "id": "oFxrfY5yRyEm",
        "colab_type": "code",
        "colab": {}
      },
      "source": [
        "kmeans = KMeans().setK(20).setSeed(1).setFeaturesCol(\"features\")\n",
        "model=kmeans.fit(total_schema)\n",
        "transformed = model.transform(total_schema).select(\"word\", \"positive\",\"negative\", \"prediction\")\n",
        "rows=transformed.collect()\n",
        "\n"
      ],
      "execution_count": null,
      "outputs": []
    },
    {
      "cell_type": "code",
      "metadata": {
        "id": "LIQqGUgogU-v",
        "colab_type": "code",
        "colab": {
          "base_uri": "https://localhost:8080/",
          "height": 454
        },
        "outputId": "44a69a3c-1092-4f0f-8760-5d46bf53f722"
      },
      "source": [
        "df_pred = sqlContext.createDataFrame(rows)\n",
        "df_pred.show()\n",
        "\n",
        "df_predd_rdd = df_pred.rdd"
      ],
      "execution_count": null,
      "outputs": [
        {
          "output_type": "stream",
          "text": [
            "+----------+------------------+------------------+----------+\n",
            "|      word|          positive|          negative|prediction|\n",
            "+----------+------------------+------------------+----------+\n",
            "|      stay| 2.395440680170068| 3.929293288838827|         7|\n",
            "|      away|3.0145291343589657| 3.599021803965823|        15|\n",
            "|      from|2.6277298892901095|  4.09292678329845|        14|\n",
            "|      stop| 2.261733015122269| 4.789064678182165|        13|\n",
            "|       for| 2.719459856631577|3.6934682799038074|         7|\n",
            "|      know|2.6041378003368956| 3.876983610796045|         7|\n",
            "|  workouts|3.6246962114697148|2.1163644245798903|        18|\n",
            "|   florida| 2.053303481157232| 4.371737770970795|        13|\n",
            "|      ever|2.9306901861862507| 2.786778099779826|         9|\n",
            "|    states| 2.327423297905348| 4.094844334517046|         7|\n",
            "|   primary|2.4233699461904914|2.7742600471979006|         9|\n",
            "| executive|2.9204878919521002|2.9571708441665723|         9|\n",
            "|      they| 2.535427644371628| 4.006933091041259|         7|\n",
            "|      aims| 3.066028588277449|3.0932096274937373|        15|\n",
            "|      anna|3.3887938205020043| 2.774350123145253|        10|\n",
            "|   wintour|2.8358670414140588| 4.056829438180544|        14|\n",
            "|     pulse| 2.725081606176108| 3.135096511324566|         9|\n",
            "|    before|2.5110289717834333| 3.761232575279487|         7|\n",
            "|       old|2.1366211991283963| 4.476212198043208|        13|\n",
            "|chesapeake| 3.066614049506982| 4.102640433283964|        14|\n",
            "+----------+------------------+------------------+----------+\n",
            "only showing top 20 rows\n",
            "\n"
          ],
          "name": "stdout"
        }
      ]
    },
    {
      "cell_type": "code",
      "metadata": {
        "id": "TRQzyis6VJKu",
        "colab_type": "code",
        "colab": {
          "base_uri": "https://localhost:8080/",
          "height": 353
        },
        "outputId": "03de4ae8-fb9d-4e39-b80a-5db6deb43d65"
      },
      "source": [
        "centers = model.clusterCenters()\n",
        "for center in centers:\n",
        "  print(center)"
      ],
      "execution_count": null,
      "outputs": [
        {
          "output_type": "stream",
          "text": [
            "[3.80472908 4.17104443]\n",
            "[1.50853218 9.43027239]\n",
            "[1.57297714 5.67783225]\n",
            "[2.39663339 1.7927907 ]\n",
            "[1.71761586 3.98856086]\n",
            "[4.44607353 2.28892777]\n",
            "[4.05398964 1.30146586]\n",
            "[2.43856013 3.67277679]\n",
            "[2.32646702 5.22430354]\n",
            "[2.71800167 2.84860593]\n",
            "[3.67191161 2.97325759]\n",
            "[5.17951548 3.35610197]\n",
            "[2.78386488 6.02617692]\n",
            "[2.17394483 4.51496392]\n",
            "[2.86246603 4.37645724]\n",
            "[3.05144104 3.4697908 ]\n",
            "[6.27711092 1.62870564]\n",
            "[1.75168284 7.16799053]\n",
            "[3.30338024 2.2120929 ]\n",
            "[1.92442703 2.88190913]\n"
          ],
          "name": "stdout"
        }
      ]
    },
    {
      "cell_type": "markdown",
      "metadata": {
        "id": "WzR4_oFOX8kY",
        "colab_type": "text"
      },
      "source": [
        "We can see from the centers that center (1) has the most negative words, and (16) has the most positive words"
      ]
    },
    {
      "cell_type": "code",
      "metadata": {
        "id": "_cOJ9vRxh_kn",
        "colab_type": "code",
        "colab": {
          "base_uri": "https://localhost:8080/",
          "height": 54
        },
        "outputId": "dcf72d0d-fa0c-4ec7-9748-794130f283d6"
      },
      "source": [
        "top_negative_words = df_predd_rdd.filter(lambda x: x[3] == 1)\n",
        "print(top_negative_words.collect())"
      ],
      "execution_count": null,
      "outputs": [
        {
          "output_type": "stream",
          "text": [
            "[Row(word='defendant', positive=1.3472007705545277, negative=10.207283247661225, prediction=1), Row(word='deli', positive=1.0832528554667695, negative=8.593571885895885, prediction=1), Row(word='slapped', positive=1.6869489833923592, negative=8.435128012945627, prediction=1), Row(word='weinstein', positive=1.796429539985591, negative=8.531942413066918, prediction=1), Row(word='stabbing', positive=0.821359842353265, negative=9.43590603957284, prediction=1), Row(word='rapist', positive=1.3266075299801865, negative=8.540918010647284, prediction=1), Row(word='brutality', positive=1.5651507437920802, negative=8.510610169440083, prediction=1), Row(word='estranged', positive=1.3226337240318609, negative=9.313446988978198, prediction=1), Row(word='martyr', positive=2.488710042914722, negative=10.25171394031048, prediction=1), Row(word='millane', positive=2.8291074705892907, negative=8.478272157672732, prediction=1), Row(word='prioritised', positive=2.9782764763753318, negative=11.049748730357063, prediction=1), Row(word='riot', positive=2.053460929707892, negative=8.416557658497211, prediction=1), Row(word='plead', positive=1.520503082241443, negative=9.337655237828894, prediction=1), Row(word='forehead', positive=1.18470223883122, negative=8.344714457161153, prediction=1), Row(word='deceit', positive=2.173614573582255, negative=10.62715298766106, prediction=1), Row(word='attacker', positive=1.5808990037876518, negative=9.617432620037365, prediction=1), Row(word='bacterial', positive=2.2487324355292104, negative=11.493026520207055, prediction=1), Row(word='extort', positive=2.1670296363647177, negative=10.9222474456344, prediction=1), Row(word='indicted', positive=1.3572690778020287, negative=10.28279343543571, prediction=1), Row(word='guilty', positive=1.5363811100704785, negative=10.247704716937296, prediction=1), Row(word='bully', positive=0.8243989090192443, negative=8.964885259106122, prediction=1), Row(word='terroristic', positive=0.0, negative=17.006802721088402, prediction=1), Row(word='murderers', positive=1.3186102835121614, negative=8.36472888999528, prediction=1), Row(word='affluenza', positive=0.9995365863528117, negative=10.358107455475308, prediction=1), Row(word='indictment', positive=1.7719099121780968, negative=9.830944395346897, prediction=1), Row(word='avenatti', positive=1.7727832976165314, negative=9.391209240643938, prediction=1), Row(word='polygamy', positive=2.285129479382795, negative=8.90457931334834, prediction=1), Row(word='fraudulent', positive=1.613569386741377, negative=9.721234944793565, prediction=1), Row(word='felonies', positive=1.6146739754733626, negative=9.542987657396417, prediction=1), Row(word='charged', positive=1.0644138148894606, negative=8.52251693261189, prediction=1), Row(word='haram', positive=2.0207747699153598, negative=8.557231064266063, prediction=1), Row(word='murderer', positive=1.450296132780971, negative=8.31862262233996, prediction=1), Row(word='arraigned', positive=1.3288280148305833, negative=8.868623992485444, prediction=1), Row(word='protester', positive=1.6578136844558335, negative=8.685993300225897, prediction=1), Row(word='sudesh', positive=2.097818859243048, negative=11.481523312124763, prediction=1), Row(word='felon', positive=2.1804858103532148, negative=8.39764821459484, prediction=1), Row(word='supremacists', positive=0.4998426091231683, negative=10.17498947824199, prediction=1), Row(word='raping', positive=1.3143361796033077, negative=9.375172379456748, prediction=1), Row(word='rikers', positive=0.9508078450208363, negative=9.386269320675195, prediction=1), Row(word='cuffs', positive=1.3417052735343917, negative=12.811245996425619, prediction=1), Row(word='pleads', positive=1.4600079653864835, negative=9.73413228471276, prediction=1), Row(word='crimes', positive=1.6901153929246968, negative=8.858984360229444, prediction=1), Row(word='offences', positive=1.2963565186388553, negative=10.692600314745413, prediction=1), Row(word='toes', positive=0.9124995545173864, negative=9.463911875810554, prediction=1), Row(word='conviction', positive=2.0754831951060764, negative=8.79107311756397, prediction=1), Row(word='dentist', positive=2.6607654447880713, negative=9.263600563805188, prediction=1), Row(word='knifeman', positive=1.4881843431740727, negative=9.367904326850715, prediction=1), Row(word='assaulting', positive=1.3045108099103342, negative=9.49525210786953, prediction=1), Row(word='offender', positive=1.1526931219273704, negative=8.928635567227266, prediction=1), Row(word='madoff', positive=2.268218241664295, negative=8.380605091940627, prediction=1), Row(word='poop', positive=1.0460080692115061, negative=10.542712279869525, prediction=1), Row(word='extradited', positive=1.1289723482637444, negative=8.520232481076924, prediction=1), Row(word='allergies', positive=1.3707543670643563, negative=11.099822308651593, prediction=1), Row(word='prosecutor', positive=1.7041969883530719, negative=8.791931226817365, prediction=1), Row(word='wikileaks', positive=1.156604881041764, negative=9.363938176688173, prediction=1), Row(word='traumatic', positive=1.1152591326867154, negative=8.729340239431156, prediction=1), Row(word='hazing', positive=1.4133752630584873, negative=9.36578256345389, prediction=1), Row(word='hanukkah', positive=2.2309263543958973, negative=9.488616630492944, prediction=1), Row(word='conspiring', positive=1.6307907620869195, negative=8.703750983500063, prediction=1), Row(word='dulos', positive=1.0696672326949883, negative=8.976142425297015, prediction=1), Row(word='shoplifter', positive=0.7000248015873015, negative=9.697984307359308, prediction=1), Row(word='exploiting', positive=2.616533587320406, negative=9.544181923727834, prediction=1), Row(word='cyberstalked', positive=2.38095238095238, negative=12.8571428571429, prediction=1), Row(word='aggravated', positive=0.5888742451734974, negative=8.96008815388549, prediction=1), Row(word='jussie', positive=2.0293253361429104, negative=10.555440433080191, prediction=1), Row(word='jameela', positive=2.265489316271639, negative=10.276380279639469, prediction=1), Row(word='probation', positive=1.7390977530325458, negative=9.202727477357378, prediction=1), Row(word='prosecutors', positive=1.988749588810422, negative=8.59132389446297, prediction=1), Row(word='robs', positive=1.2588441886705646, negative=9.123280426118122, prediction=1), Row(word='wurtzel', positive=3.7521624784590113, negative=9.004834414421568, prediction=1), Row(word='proportionate', positive=1.7857142857142905, negative=9.82142857142857, prediction=1), Row(word='munchausen', positive=1.2245693495693486, negative=15.108590733590757, prediction=1), Row(word='sentencing', positive=2.433205587220977, negative=8.834023903162425, prediction=1), Row(word='malicious', positive=2.408921112309285, negative=10.747379021650522, prediction=1), Row(word='attempted', positive=0.9118317732660451, negative=8.418462794675364, prediction=1), Row(word='felony', positive=1.359947628371431, negative=8.667518518242742, prediction=1), Row(word='terrorism', positive=1.6355044578166618, negative=8.455999850724531, prediction=1), Row(word='bribery', positive=2.1764704977019624, negative=8.809085511621202, prediction=1), Row(word='extremists', positive=0.9550727053872798, negative=9.253656731747675, prediction=1), Row(word='reintroduces', positive=1.788722769240561, negative=9.157121324261114, prediction=1), Row(word='pistol', positive=1.5681212915236846, negative=8.40373072315239, prediction=1), Row(word='boko', positive=1.9923259818371717, negative=8.71695897954593, prediction=1), Row(word='molestation', positive=1.2731656455383975, negative=8.493005364564025, prediction=1), Row(word='sentenced', positive=1.406768899494244, negative=9.714333194309857, prediction=1), Row(word='mosque', positive=1.9741618512847348, negative=10.761728024963054, prediction=1), Row(word='pornography', positive=0.8213626252080225, negative=8.700350642975394, prediction=1), Row(word='barnard', positive=1.0922804146636353, negative=9.594924779273054, prediction=1), Row(word='deliberations', positive=1.4991084458819925, negative=8.66144986803877, prediction=1), Row(word='inmate', positive=1.4909062328395475, negative=8.388628433845494, prediction=1), Row(word='sentence', positive=2.0290739990231303, negative=8.377975644611857, prediction=1), Row(word='illnesses', positive=1.248296390101727, negative=8.279559886700794, prediction=1), Row(word='extortion', positive=1.4994146955955332, negative=9.267963798260341, prediction=1), Row(word='subpoenas', positive=2.4097850949285298, negative=9.645193889079481, prediction=1), Row(word='scalding', positive=0.0, negative=10.362218689333933, prediction=1), Row(word='convicts', positive=1.3754002401694148, negative=9.167363615575589, prediction=1), Row(word='deposit', positive=2.4677431395504215, negative=8.692246395940144, prediction=1), Row(word='bail', positive=1.760808654559272, negative=8.455256266667945, prediction=1), Row(word='wounded', positive=1.1257795097392016, negative=8.631511470885822, prediction=1), Row(word='defrauding', positive=1.488560190486794, negative=8.561798812879813, prediction=1), Row(word='jamil', positive=2.1704897425761853, negative=10.570694412161489, prediction=1), Row(word='deadlocked', positive=1.2118800799657257, negative=10.755761571799065, prediction=1), Row(word='molesters', positive=0.9189194051769968, negative=8.266357172617829, prediction=1), Row(word='murder', positive=1.221020529134459, negative=8.514273365304817, prediction=1), Row(word='charges', positive=1.386216947841063, negative=8.618879899651375, prediction=1), Row(word='murdering', positive=1.2328727186156874, negative=8.956627815546746, prediction=1), Row(word='scream', positive=1.4435485029365125, negative=9.246003380982565, prediction=1), Row(word='possessing', positive=0.8104580449888887, negative=8.656236701268604, prediction=1), Row(word='conspirator', positive=2.124066067864323, negative=8.744429057114546, prediction=1), Row(word='gunshots', positive=0.6452389245994825, negative=8.965710585168498, prediction=1), Row(word='tosses', positive=2.445887785293057, negative=8.471057177091073, prediction=1), Row(word='hoax', positive=1.9964592848157852, negative=8.468304302137183, prediction=1), Row(word='indictments', positive=1.4638513576672805, negative=10.363524987006286, prediction=1), Row(word='wrongful', positive=2.346784942414686, negative=9.351851084854783, prediction=1), Row(word='fotis', positive=1.0845864983652693, negative=9.374479090518983, prediction=1), Row(word='sucking', positive=0.27169765241017174, negative=12.35064448690106, prediction=1), Row(word='convicted', positive=1.6008986110962218, negative=9.134088439488465, prediction=1), Row(word='violators', positive=1.3812831929626495, negative=8.389444637275325, prediction=1), Row(word='manslaughter', positive=0.7925385122438404, negative=9.251319031263082, prediction=1), Row(word='swatting', positive=0.6163238432151448, negative=9.479236323809511, prediction=1), Row(word='militant', positive=2.1442685063150777, negative=9.026802158186578, prediction=1), Row(word='wakes', positive=0.4134901010134779, negative=9.677882685751173, prediction=1), Row(word='unattended', positive=0.3518598305328164, negative=9.297962034170885, prediction=1), Row(word='streatham', positive=1.1373167067372654, negative=9.145260485864688, prediction=1), Row(word='confronted', positive=0.6540222073458318, negative=8.861540151206288, prediction=1), Row(word='supremacist', positive=1.3316326312479068, negative=9.78121456895673, prediction=1), Row(word='argument', positive=1.2628316694396813, negative=8.554525200565386, prediction=1), Row(word='smollett', positive=1.983188920118245, negative=10.632867799442394, prediction=1), Row(word='stabbings', positive=0.8813877551908763, negative=9.483579231805662, prediction=1), Row(word='unarmed', positive=0.5841744864152183, negative=8.354337816886432, prediction=1), Row(word='parchman', positive=0.908446157018368, negative=9.731990024262245, prediction=1)]\n"
          ],
          "name": "stdout"
        }
      ]
    },
    {
      "cell_type": "code",
      "metadata": {
        "id": "M7ocnzB6plC2",
        "colab_type": "code",
        "colab": {
          "base_uri": "https://localhost:8080/",
          "height": 54
        },
        "outputId": "38f29a65-bcb9-4950-8b10-7547ea8a82b3"
      },
      "source": [
        "\n",
        "top_positive_words = df_predd_rdd.filter(lambda x: x[3] == 16)\n",
        "print(top_positive_words.collect())"
      ],
      "execution_count": null,
      "outputs": [
        {
          "output_type": "stream",
          "text": [
            "[Row(word='wordpress', positive=5.709303056954797, negative=0.6383927098056422, prediction=16), Row(word='exes', positive=5.455027421089452, negative=1.362237958926692, prediction=16), Row(word='granny', positive=5.828502966871514, negative=0.7612496938334388, prediction=16), Row(word='bafta', positive=7.287566575299472, negative=1.3821954470079238, prediction=16), Row(word='benji', positive=6.723791789249472, negative=2.1715850551334355, prediction=16), Row(word='mjs', positive=7.055214723926382, negative=0.6134969325153373, prediction=16), Row(word='heirs', positive=5.71431409776346, negative=0.42016806722689076, prediction=16), Row(word='arts', positive=5.491399935467313, negative=1.9621798139363333, prediction=16), Row(word='skyline', positive=6.123425449507162, negative=1.551041920449358, prediction=16), Row(word='calf', positive=6.247916931379648, negative=2.118383707501421, prediction=16), Row(word='charlize', positive=7.25721091887854, negative=2.0218994436534867, prediction=16), Row(word='achievements', positive=5.609844302944001, negative=1.3801815378282578, prediction=16), Row(word='lunas', positive=5.33290150002099, negative=1.0825821233004036, prediction=16), Row(word='chigvintsev', positive=5.901945467561403, negative=0.9519835936800872, prediction=16), Row(word='marnie', positive=12.34654377880187, negative=2.3152073732718934, prediction=16), Row(word='mariah', positive=5.4045253046004165, negative=2.043011173403219, prediction=16), Row(word='iq', positive=6.0819005750359105, negative=1.3557462472186297, prediction=16), Row(word='recreating', positive=5.503307026437566, negative=2.2165315688405696, prediction=16), Row(word='obamas', positive=5.392657340080929, negative=1.2832303049360794, prediction=16), Row(word='awkwafina', positive=6.150621583998917, negative=0.997954588372265, prediction=16), Row(word='romantic', positive=6.052055380606523, negative=1.8658841131289177, prediction=16), Row(word='presenters', positive=5.928587046018948, negative=1.2843095732646963, prediction=16), Row(word='nec', positive=5.530106869570705, negative=2.290197749953598, prediction=16), Row(word='acm', positive=6.169930289008657, negative=1.5242261975219047, prediction=16), Row(word='eilishs', positive=5.37521171610208, negative=1.3620652086893064, prediction=16), Row(word='distinguished', positive=6.109450788805244, negative=0.8772067357284838, prediction=16), Row(word='sheeran', positive=5.653778074615775, negative=1.8268801052099737, prediction=16), Row(word='awards', positive=6.439917983717722, negative=2.030394227310202, prediction=16), Row(word='winners', positive=5.863077457913786, negative=2.394970461494594, prediction=16), Row(word='dancer', positive=6.254278798319269, negative=2.531573550472994, prediction=16), Row(word='handsome', positive=5.489500297045221, negative=0.8199023697763543, prediction=16), Row(word='strega', positive=5.733397108442343, negative=2.355227132442066, prediction=16), Row(word='viewing', positive=5.46103772715707, negative=1.5305559897882004, prediction=16), Row(word='glory', positive=5.95441603214034, negative=1.6435936995333724, prediction=16), Row(word='clap', positive=5.419211921755091, negative=1.2607979346516291, prediction=16), Row(word='ballet', positive=5.4215587922151265, negative=2.10039376674236, prediction=16), Row(word='comedians', positive=6.040606141806794, negative=2.531413857090548, prediction=16), Row(word='tenille', positive=5.464343533892707, negative=2.1792066629023163, prediction=16), Row(word='retriever', positive=5.633170975750192, negative=1.1621601838727804, prediction=16), Row(word='yummy', positive=5.497136936232665, negative=1.9712100398709853, prediction=16), Row(word='diaz', positive=6.263546838610413, negative=2.2732002724208673, prediction=16), Row(word='mermaid', positive=6.616068447794357, negative=1.3453075274737059, prediction=16), Row(word='totah', positive=6.304842512793581, negative=1.213150876759443, prediction=16), Row(word='nona', positive=5.733397108442343, negative=2.355227132442066, prediction=16), Row(word='delicious', positive=7.975082380385072, negative=1.4575488243746577, prediction=16), Row(word='legendary', positive=5.4473312736928206, negative=2.08335312854658, prediction=16), Row(word='carpet', positive=5.9492166331019725, negative=1.6588596760635972, prediction=16), Row(word='dominated', positive=5.9027148773376705, negative=1.5370632875978414, prediction=16), Row(word='collaborative', positive=6.497280398685606, negative=1.910860051127321, prediction=16), Row(word='curves', positive=5.3467228330977985, negative=1.8640207122084655, prediction=16), Row(word='breeds', positive=5.475247819344794, negative=1.5822041637972588, prediction=16), Row(word='jenna', positive=5.390074887244874, negative=1.3769879936001168, prediction=16), Row(word='duff', positive=5.794534621028876, negative=1.555175044178124, prediction=16), Row(word='painter', positive=6.159514002472827, negative=1.5911594757879801, prediction=16), Row(word='iheartradio', positive=5.588603977310111, negative=1.7677578123515607, prediction=16), Row(word='neon', positive=6.684709078036088, negative=1.6258906894278446, prediction=16), Row(word='romes', positive=9.60643731172406, negative=0.5844720006318618, prediction=16), Row(word='honeymoon', positive=7.05799373467248, negative=1.0355609300802047, prediction=16), Row(word='charms', positive=9.998338449903763, negative=2.131270385521205, prediction=16), Row(word='naacp', positive=8.172311822919497, negative=1.5131879235012913, prediction=16), Row(word='depaola', positive=5.678785218702982, negative=2.229574881797745, prediction=16), Row(word='vacations', positive=6.438865202439665, negative=2.026743345713177, prediction=16), Row(word='achievement', positive=5.491700253829984, negative=1.8560065239965007, prediction=16), Row(word='congratulate', positive=7.536871844173825, negative=1.1600267827251427, prediction=16), Row(word='mccoy', positive=5.611755496570142, negative=1.80052175868049, prediction=16), Row(word='performer', positive=6.389070743139484, negative=0.6806435735916032, prediction=16), Row(word='gravestones', positive=5.490070000869259, negative=2.0887768511369376, prediction=16), Row(word='serenaded', positive=6.620209059233448, negative=0.6968641114982579, prediction=16), Row(word='hilary', positive=5.87993776630215, negative=1.6470980091098846, prediction=16), Row(word='slaughterhouse', positive=7.071376921537137, negative=2.6764941300895893, prediction=16), Row(word='bestreviews', positive=5.703957479065847, negative=1.541110862715297, prediction=16), Row(word='sweet', positive=5.756378205697737, negative=2.0182934576544453, prediction=16), Row(word='marries', positive=5.61159571418504, negative=1.3545765683416624, prediction=16), Row(word='aldean', positive=6.068034486651561, negative=0.8413415052007261, prediction=16), Row(word='congratulates', positive=5.429920994086704, negative=1.6887176894984193, prediction=16), Row(word='theron', positive=7.25721091887854, negative=2.0218994436534867, prediction=16), Row(word='tomie', positive=5.678785218702982, negative=2.229574881797745, prediction=16), Row(word='cookbook', positive=5.684036262683936, negative=2.3975912634114427, prediction=16), Row(word='cutest', positive=6.210633493039658, negative=2.0904374154286995, prediction=16), Row(word='capp', positive=7.967099313519959, negative=1.9312389526041012, prediction=16), Row(word='malik', positive=6.138341209372185, negative=1.405941837246029, prediction=16), Row(word='raffle', positive=5.334703983530486, negative=1.518965458019844, prediction=16), Row(word='illustrated', positive=7.766990291262141, negative=0.9708737864077668, prediction=16), Row(word='viola', positive=6.4481217937635655, negative=1.9285161794530268, prediction=16), Row(word='dj', positive=5.89202596421826, negative=2.1079628150641456, prediction=16), Row(word='inducted', positive=5.370341115177824, negative=1.6726330367917754, prediction=16), Row(word='madden', positive=6.018554837891242, negative=2.348796934908822, prediction=16), Row(word='femininity', positive=6.007256008263595, negative=2.338963404220296, prediction=16), Row(word='waterboy', positive=6.508875739644969, negative=1.7751479289940801, prediction=16), Row(word='victorious', positive=7.179661732545607, negative=2.215263528205926, prediction=16), Row(word='accreditation', positive=6.340676000965645, negative=1.8359027403729342, prediction=16), Row(word='orangutan', positive=5.325221413861858, negative=1.181597757600915, prediction=16), Row(word='triplets', positive=6.932020266785584, negative=1.1122008923772673, prediction=16), Row(word='thank', positive=5.475245349875255, negative=1.8238498183706997, prediction=16), Row(word='waverly', positive=5.31586578977064, negative=1.0700275345512404, prediction=16), Row(word='postmark', positive=5.379907798717617, negative=2.0004996463561175, prediction=16), Row(word='deuce', positive=11.238801531541537, negative=4.558380729340915, prediction=16), Row(word='excellence', positive=6.939801015351081, negative=1.1004429956389261, prediction=16), Row(word='richie', positive=6.054037954317111, negative=1.7263661902422178, prediction=16), Row(word='diplo', positive=5.285650808721576, negative=1.4928439232930233, prediction=16), Row(word='dancetogether', positive=8.360128617363342, negative=1.2861736334405103, prediction=16), Row(word='undefeated', positive=5.652548072623203, negative=1.3910959831288168, prediction=16), Row(word='bindi', positive=5.868366220035405, negative=1.668422676099894, prediction=16), Row(word='perishers', positive=8.0, negative=2.0, prediction=16), Row(word='prowess', positive=5.903456990340826, negative=1.6969682503829882, prediction=16), Row(word='jlo', positive=5.748964834542286, negative=2.5038920085995997, prediction=16), Row(word='undivided', positive=6.511627906976741, negative=0.0, prediction=16), Row(word='wished', positive=6.981890306853174, negative=2.4689122997453246, prediction=16), Row(word='cartier', positive=5.966620103602815, negative=0.5816017693964262, prediction=16), Row(word='childbirth', positive=5.4568024421705745, negative=2.1234964526839706, prediction=16), Row(word='inviting', positive=6.083782084319691, negative=0.4900416477229329, prediction=16), Row(word='dewan', positive=5.71314810877903, negative=0.7544801234963284, prediction=16), Row(word='budx', positive=6.76691729323308, negative=0.0, prediction=16), Row(word='capaldi', positive=6.322386336778832, negative=1.692615084988651, prediction=16), Row(word='hailey', positive=6.634686389800094, negative=1.7398331574284407, prediction=16), Row(word='dancers', positive=6.033008653567951, negative=1.175797724662192, prediction=16), Row(word='medals', positive=5.733324081890353, negative=1.9811173201040297, prediction=16), Row(word='zellweger', positive=5.9140841173277545, negative=1.035914207870411, prediction=16), Row(word='birthday', positive=6.966865562237483, negative=1.9866084149861105, prediction=16), Row(word='gifts', positive=5.4254729032170275, negative=1.7079174929799705, prediction=16), Row(word='adorable', positive=5.9110148554781325, negative=1.6095121395207705, prediction=16), Row(word='afar', positive=5.478945056467517, negative=1.5442898902242812, prediction=16), Row(word='livefromdinner', positive=6.349206349206349, negative=1.5873015873015903, prediction=16), Row(word='lizzos', positive=6.817204358072628, negative=2.478258744830289, prediction=16), Row(word='nice', positive=5.66985962358887, negative=2.337101291324492, prediction=16), Row(word='award', positive=6.129388906261469, negative=1.7483183906035262, prediction=16), Row(word='glaad', positive=8.560753799074352, negative=1.4871361089752777, prediction=16), Row(word='barack', positive=5.647234124804147, negative=1.8725687640189037, prediction=16), Row(word='kara', positive=6.447649080436052, negative=1.688804092438485, prediction=16), Row(word='dern', positive=5.51045491904047, negative=1.821018866942064, prediction=16), Row(word='happiness', positive=5.677622708020256, negative=2.330957083901066, prediction=16), Row(word='sizzle', positive=7.569949747463768, negative=1.3982373486708533, prediction=16), Row(word='ambassadors', positive=5.56118438719417, negative=0.6622848163202526, prediction=16), Row(word='nominations', positive=6.957007120256674, negative=1.7215585688548725, prediction=16), Row(word='baftas', positive=7.32268266523332, negative=1.8975068755654116, prediction=16), Row(word='officiates', positive=5.365765390782109, negative=1.0486144978429355, prediction=16), Row(word='sock', positive=6.837893876120668, negative=0.4786518760177609, prediction=16), Row(word='comfortable', positive=5.526684056937021, negative=1.525333258052622, prediction=16), Row(word='courteney', positive=5.943539726406281, negative=2.0572943426399832, prediction=16), Row(word='pens', positive=6.931749363568831, negative=2.6531218521027307, prediction=16), Row(word='gotta', positive=5.790391404080014, negative=1.4268024697549293, prediction=16), Row(word='euromillions', positive=8.17028294566593, negative=0.6954297500593026, prediction=16)]\n"
          ],
          "name": "stdout"
        }
      ]
    },
    {
      "cell_type": "markdown",
      "metadata": {
        "id": "q_Zj2_WdYZUp",
        "colab_type": "text"
      },
      "source": [
        "Plotting Results:"
      ]
    },
    {
      "cell_type": "code",
      "metadata": {
        "id": "Z1Y87gW8jaO7",
        "colab_type": "code",
        "colab": {
          "base_uri": "https://localhost:8080/",
          "height": 252
        },
        "outputId": "f0d788e0-c640-48c7-f3f8-1edfce3c29b5"
      },
      "source": [
        "import matplotlib.pyplot as plt\n",
        "import pandas as pd\n",
        "\n",
        "x=df_predd_rdd.map(lambda word: word[2])\n",
        "y=df_predd_rdd.map(lambda word: word[1])\n",
        "labels = df_predd_rdd.map(lambda word: word[3])\n",
        "\n",
        "\n",
        "df_for_graph = pd.DataFrame(dict(x=x.collect(), y=y.collect(), category=labels.collect()))\n",
        "print(df_for_graph)\n",
        "\n"
      ],
      "execution_count": null,
      "outputs": [
        {
          "output_type": "stream",
          "text": [
            "              x         y  category\n",
            "0      3.929293  2.395441         7\n",
            "1      3.599022  3.014529        15\n",
            "2      4.092927  2.627730        14\n",
            "3      4.789065  2.261733        13\n",
            "4      3.693468  2.719460         7\n",
            "...         ...       ...       ...\n",
            "13965  3.362379  2.710733        15\n",
            "13966  2.616712  3.901618        10\n",
            "13967  4.626895  2.430155        13\n",
            "13968  1.939724  1.986129         3\n",
            "13969  2.473549  2.913396         9\n",
            "\n",
            "[13970 rows x 3 columns]\n"
          ],
          "name": "stdout"
        }
      ]
    },
    {
      "cell_type": "code",
      "metadata": {
        "id": "Lh0KOvNFZRzK",
        "colab_type": "code",
        "colab": {}
      },
      "source": [
        "x1 = []\n",
        "y1 = []\n",
        "for i in centers:\n",
        "  \n",
        "  x1.append(i[1])\n",
        "  y1.append(i[0])\n",
        "\n"
      ],
      "execution_count": null,
      "outputs": []
    },
    {
      "cell_type": "markdown",
      "metadata": {
        "id": "s9fL7zMfZOS0",
        "colab_type": "text"
      },
      "source": [
        "All Data with centers visuallized"
      ]
    },
    {
      "cell_type": "code",
      "metadata": {
        "id": "NQxzqvQuKXoR",
        "colab_type": "code",
        "colab": {
          "base_uri": "https://localhost:8080/",
          "height": 282
        },
        "outputId": "cad06ac1-a922-4603-d66a-37f0c84da209"
      },
      "source": [
        "import matplotlib.pyplot as plt\n",
        "x = frequent_words.map(lambda word: word[1][1])\n",
        "y = frequent_words.map(lambda word: word[1][0])\n",
        "\n",
        "plt.scatter(x.collect(),y.collect())\n",
        "\n",
        "plt.scatter(x1,y1)\n"
      ],
      "execution_count": null,
      "outputs": [
        {
          "output_type": "execute_result",
          "data": {
            "text/plain": [
              "<matplotlib.collections.PathCollection at 0x7f64fad54e48>"
            ]
          },
          "metadata": {
            "tags": []
          },
          "execution_count": 18
        },
        {
          "output_type": "display_data",
          "data": {
            "image/png": "[encoded data removed]",
            "text/plain": [
              "<Figure size 432x288 with 1 Axes>"
            ]
          },
          "metadata": {
            "tags": [],
            "needs_background": "light"
          }
        }
      ]
    },
    {
      "cell_type": "markdown",
      "metadata": {
        "id": "-ZC5OrIYZVLH",
        "colab_type": "text"
      },
      "source": [
        "Plotting Data with clusters using plotnine"
      ]
    },
    {
      "cell_type": "code",
      "metadata": {
        "id": "lU56Ylq4l-38",
        "colab_type": "code",
        "colab": {
          "base_uri": "https://localhost:8080/",
          "height": 766
        },
        "outputId": "8fd07f6d-a5a7-4394-8a67-667c656f33e8"
      },
      "source": [
        "from plotnine import *\n",
        "\n",
        "\n",
        "\n",
        "x=df_predd_rdd.map(lambda word: word[2])\n",
        "y=df_predd_rdd.map(lambda word: word[1])\n",
        "labels = df_predd_rdd.map(lambda word: word[3])\n",
        "\n",
        "df_for_graph = pd.DataFrame(dict(x=x.collect(), y=y.collect(), category=labels.collect()))\n",
        "\n",
        "print(df_for_graph)\n",
        "g = ggplot(df_for_graph, aes(x='x', y='y', color='category')) + geom_point(stat='summary')\n",
        "print(g)"
      ],
      "execution_count": null,
      "outputs": [
        {
          "output_type": "stream",
          "text": [
            "              x         y  category\n",
            "0      3.929293  2.395441         7\n",
            "1      3.599022  3.014529        15\n",
            "2      4.092927  2.627730        14\n",
            "3      4.789065  2.261733        13\n",
            "4      3.693468  2.719460         7\n",
            "...         ...       ...       ...\n",
            "13965  3.362379  2.710733        15\n",
            "13966  2.616712  3.901618        10\n",
            "13967  4.626895  2.430155        13\n",
            "13968  1.939724  1.986129         3\n",
            "13969  2.473549  2.913396         9\n",
            "\n",
            "[13970 rows x 3 columns]\n"
          ],
          "name": "stdout"
        },
        {
          "output_type": "stream",
          "text": [
            "/usr/local/lib/python3.6/dist-packages/mizani/bounds.py:352: RuntimeWarning: invalid value encountered in less\n",
            "  outside = (x < range[0]) | (x > range[1])\n",
            "/usr/local/lib/python3.6/dist-packages/mizani/bounds.py:352: RuntimeWarning: invalid value encountered in greater\n",
            "  outside = (x < range[0]) | (x > range[1])\n"
          ],
          "name": "stderr"
        },
        {
          "output_type": "display_data",
          "data": {
            "image/png": "[encoded data removed]",
            "text/plain": [
              "<Figure size 640x480 with 1 Axes>"
            ]
          },
          "metadata": {
            "tags": []
          }
        },
        {
          "output_type": "stream",
          "text": [
            "<ggplot: (8754480180239)>\n"
          ],
          "name": "stdout"
        }
      ]
    }
  ]
}